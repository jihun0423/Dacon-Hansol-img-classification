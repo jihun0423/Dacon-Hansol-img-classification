{
  "nbformat": 4,
  "nbformat_minor": 0,
  "metadata": {
    "colab": {
      "provenance": [],
      "authorship_tag": "ABX9TyN91doTukvla0XRNMjOaK/4",
      "include_colab_link": true
    },
    "kernelspec": {
      "name": "python3",
      "display_name": "Python 3"
    },
    "language_info": {
      "name": "python"
    }
  },
  "cells": [
    {
      "cell_type": "markdown",
      "metadata": {
        "id": "view-in-github",
        "colab_type": "text"
      },
      "source": [
        "<a href=\"https://colab.research.google.com/github/jihun0423/Dacon-Hansol-img-classification/blob/main/WeightedRandomSampler_%26_Augmentation.ipynb\" target=\"_parent\"><img src=\"https://colab.research.google.com/assets/colab-badge.svg\" alt=\"Open In Colab\"/></a>"
      ]
    },
    {
      "cell_type": "code",
      "source": [],
      "metadata": {
        "id": "rTWhVaOZAGv8"
      },
      "execution_count": null,
      "outputs": []
    },
    {
      "cell_type": "code",
      "source": [
        "from google.colab import drive\n",
        "drive.mount('/content/gdrive')"
      ],
      "metadata": {
        "id": "vmXq4rlh4IZ1",
        "colab": {
          "base_uri": "https://localhost:8080/"
        },
        "outputId": "e7e33438-3aea-4d62-fe2a-4900b6e274c0"
      },
      "execution_count": null,
      "outputs": [
        {
          "output_type": "stream",
          "name": "stdout",
          "text": [
            "Mounted at /content/gdrive\n"
          ]
        }
      ]
    },
    {
      "cell_type": "code",
      "source": [
        "import numpy as np\n",
        "import torchvision.transforms as transforms\n",
        "from torchvision import datasets"
      ],
      "metadata": {
        "id": "cJd53fHr4JNL"
      },
      "execution_count": null,
      "outputs": []
    },
    {
      "cell_type": "code",
      "source": [
        "base_dir = '/content/gdrive/MyDrive/open (2)/'"
      ],
      "metadata": {
        "id": "6QbaKP9P4kr_"
      },
      "execution_count": null,
      "outputs": []
    },
    {
      "cell_type": "code",
      "source": [
        "train_folder = glob(base_dir + 'train/*')\n",
        "\n",
        "train_path = []\n",
        "for folder in train_folder:\n",
        "    tmp = glob(folder + '/*')\n",
        "    train_path += tmp"
      ],
      "metadata": {
        "id": "_FkUGtKB4kun"
      },
      "execution_count": null,
      "outputs": []
    },
    {
      "cell_type": "code",
      "source": [
        "train_df = pd.DataFrame(train_path, columns=['path'])\n",
        "train_df['label'] = train_df['path'].apply(lambda x: x.split('/')[-2])\n",
        "train_df\n"
      ],
      "metadata": {
        "id": "A4_oLCrY4kxR",
        "colab": {
          "base_uri": "https://localhost:8080/",
          "height": 424
        },
        "outputId": "e784b5c3-8412-4309-e4bc-0ac792ea347a"
      },
      "execution_count": null,
      "outputs": [
        {
          "output_type": "execute_result",
          "data": {
            "text/plain": [
              "                                                   path      label\n",
              "0     /content/gdrive/MyDrive/open (2)/train/가구수ᄌ...  가구수정\n",
              "1     /content/gdrive/MyDrive/open (2)/train/가구수ᄌ...  가구수정\n",
              "2     /content/gdrive/MyDrive/open (2)/train/가구수ᄌ...  가구수정\n",
              "3     /content/gdrive/MyDrive/open (2)/train/가구수ᄌ...  가구수정\n",
              "4     /content/gdrive/MyDrive/open (2)/train/가구수ᄌ...  가구수정\n",
              "...                                                 ...        ...\n",
              "3452  /content/gdrive/MyDrive/open (2)/train/틈새과...  틈새과다\n",
              "3453  /content/gdrive/MyDrive/open (2)/train/틈새과...  틈새과다\n",
              "3454  /content/gdrive/MyDrive/open (2)/train/틈새과...  틈새과다\n",
              "3455  /content/gdrive/MyDrive/open (2)/train/틈새과...  틈새과다\n",
              "3456  /content/gdrive/MyDrive/open (2)/train/틈새과...  틈새과다\n",
              "\n",
              "[3457 rows x 2 columns]"
            ],
            "text/html": [
              "\n",
              "  <div id=\"df-885a48b2-b3c9-47b9-b53a-aca120190d1e\">\n",
              "    <div class=\"colab-df-container\">\n",
              "      <div>\n",
              "<style scoped>\n",
              "    .dataframe tbody tr th:only-of-type {\n",
              "        vertical-align: middle;\n",
              "    }\n",
              "\n",
              "    .dataframe tbody tr th {\n",
              "        vertical-align: top;\n",
              "    }\n",
              "\n",
              "    .dataframe thead th {\n",
              "        text-align: right;\n",
              "    }\n",
              "</style>\n",
              "<table border=\"1\" class=\"dataframe\">\n",
              "  <thead>\n",
              "    <tr style=\"text-align: right;\">\n",
              "      <th></th>\n",
              "      <th>path</th>\n",
              "      <th>label</th>\n",
              "    </tr>\n",
              "  </thead>\n",
              "  <tbody>\n",
              "    <tr>\n",
              "      <th>0</th>\n",
              "      <td>/content/gdrive/MyDrive/open (2)/train/가구수ᄌ...</td>\n",
              "      <td>가구수정</td>\n",
              "    </tr>\n",
              "    <tr>\n",
              "      <th>1</th>\n",
              "      <td>/content/gdrive/MyDrive/open (2)/train/가구수ᄌ...</td>\n",
              "      <td>가구수정</td>\n",
              "    </tr>\n",
              "    <tr>\n",
              "      <th>2</th>\n",
              "      <td>/content/gdrive/MyDrive/open (2)/train/가구수ᄌ...</td>\n",
              "      <td>가구수정</td>\n",
              "    </tr>\n",
              "    <tr>\n",
              "      <th>3</th>\n",
              "      <td>/content/gdrive/MyDrive/open (2)/train/가구수ᄌ...</td>\n",
              "      <td>가구수정</td>\n",
              "    </tr>\n",
              "    <tr>\n",
              "      <th>4</th>\n",
              "      <td>/content/gdrive/MyDrive/open (2)/train/가구수ᄌ...</td>\n",
              "      <td>가구수정</td>\n",
              "    </tr>\n",
              "    <tr>\n",
              "      <th>...</th>\n",
              "      <td>...</td>\n",
              "      <td>...</td>\n",
              "    </tr>\n",
              "    <tr>\n",
              "      <th>3452</th>\n",
              "      <td>/content/gdrive/MyDrive/open (2)/train/틈새과...</td>\n",
              "      <td>틈새과다</td>\n",
              "    </tr>\n",
              "    <tr>\n",
              "      <th>3453</th>\n",
              "      <td>/content/gdrive/MyDrive/open (2)/train/틈새과...</td>\n",
              "      <td>틈새과다</td>\n",
              "    </tr>\n",
              "    <tr>\n",
              "      <th>3454</th>\n",
              "      <td>/content/gdrive/MyDrive/open (2)/train/틈새과...</td>\n",
              "      <td>틈새과다</td>\n",
              "    </tr>\n",
              "    <tr>\n",
              "      <th>3455</th>\n",
              "      <td>/content/gdrive/MyDrive/open (2)/train/틈새과...</td>\n",
              "      <td>틈새과다</td>\n",
              "    </tr>\n",
              "    <tr>\n",
              "      <th>3456</th>\n",
              "      <td>/content/gdrive/MyDrive/open (2)/train/틈새과...</td>\n",
              "      <td>틈새과다</td>\n",
              "    </tr>\n",
              "  </tbody>\n",
              "</table>\n",
              "<p>3457 rows × 2 columns</p>\n",
              "</div>\n",
              "      <button class=\"colab-df-convert\" onclick=\"convertToInteractive('df-885a48b2-b3c9-47b9-b53a-aca120190d1e')\"\n",
              "              title=\"Convert this dataframe to an interactive table.\"\n",
              "              style=\"display:none;\">\n",
              "        \n",
              "  <svg xmlns=\"http://www.w3.org/2000/svg\" height=\"24px\"viewBox=\"0 0 24 24\"\n",
              "       width=\"24px\">\n",
              "    <path d=\"M0 0h24v24H0V0z\" fill=\"none\"/>\n",
              "    <path d=\"M18.56 5.44l.94 2.06.94-2.06 2.06-.94-2.06-.94-.94-2.06-.94 2.06-2.06.94zm-11 1L8.5 8.5l.94-2.06 2.06-.94-2.06-.94L8.5 2.5l-.94 2.06-2.06.94zm10 10l.94 2.06.94-2.06 2.06-.94-2.06-.94-.94-2.06-.94 2.06-2.06.94z\"/><path d=\"M17.41 7.96l-1.37-1.37c-.4-.4-.92-.59-1.43-.59-.52 0-1.04.2-1.43.59L10.3 9.45l-7.72 7.72c-.78.78-.78 2.05 0 2.83L4 21.41c.39.39.9.59 1.41.59.51 0 1.02-.2 1.41-.59l7.78-7.78 2.81-2.81c.8-.78.8-2.07 0-2.86zM5.41 20L4 18.59l7.72-7.72 1.47 1.35L5.41 20z\"/>\n",
              "  </svg>\n",
              "      </button>\n",
              "      \n",
              "  <style>\n",
              "    .colab-df-container {\n",
              "      display:flex;\n",
              "      flex-wrap:wrap;\n",
              "      gap: 12px;\n",
              "    }\n",
              "\n",
              "    .colab-df-convert {\n",
              "      background-color: #E8F0FE;\n",
              "      border: none;\n",
              "      border-radius: 50%;\n",
              "      cursor: pointer;\n",
              "      display: none;\n",
              "      fill: #1967D2;\n",
              "      height: 32px;\n",
              "      padding: 0 0 0 0;\n",
              "      width: 32px;\n",
              "    }\n",
              "\n",
              "    .colab-df-convert:hover {\n",
              "      background-color: #E2EBFA;\n",
              "      box-shadow: 0px 1px 2px rgba(60, 64, 67, 0.3), 0px 1px 3px 1px rgba(60, 64, 67, 0.15);\n",
              "      fill: #174EA6;\n",
              "    }\n",
              "\n",
              "    [theme=dark] .colab-df-convert {\n",
              "      background-color: #3B4455;\n",
              "      fill: #D2E3FC;\n",
              "    }\n",
              "\n",
              "    [theme=dark] .colab-df-convert:hover {\n",
              "      background-color: #434B5C;\n",
              "      box-shadow: 0px 1px 3px 1px rgba(0, 0, 0, 0.15);\n",
              "      filter: drop-shadow(0px 1px 2px rgba(0, 0, 0, 0.3));\n",
              "      fill: #FFFFFF;\n",
              "    }\n",
              "  </style>\n",
              "\n",
              "      <script>\n",
              "        const buttonEl =\n",
              "          document.querySelector('#df-885a48b2-b3c9-47b9-b53a-aca120190d1e button.colab-df-convert');\n",
              "        buttonEl.style.display =\n",
              "          google.colab.kernel.accessAllowed ? 'block' : 'none';\n",
              "\n",
              "        async function convertToInteractive(key) {\n",
              "          const element = document.querySelector('#df-885a48b2-b3c9-47b9-b53a-aca120190d1e');\n",
              "          const dataTable =\n",
              "            await google.colab.kernel.invokeFunction('convertToInteractive',\n",
              "                                                     [key], {});\n",
              "          if (!dataTable) return;\n",
              "\n",
              "          const docLinkHtml = 'Like what you see? Visit the ' +\n",
              "            '<a target=\"_blank\" href=https://colab.research.google.com/notebooks/data_table.ipynb>data table notebook</a>'\n",
              "            + ' to learn more about interactive tables.';\n",
              "          element.innerHTML = '';\n",
              "          dataTable['output_type'] = 'display_data';\n",
              "          await google.colab.output.renderOutput(dataTable, element);\n",
              "          const docLink = document.createElement('div');\n",
              "          docLink.innerHTML = docLinkHtml;\n",
              "          element.appendChild(docLink);\n",
              "        }\n",
              "      </script>\n",
              "    </div>\n",
              "  </div>\n",
              "  "
            ]
          },
          "metadata": {},
          "execution_count": 6
        }
      ]
    },
    {
      "cell_type": "code",
      "source": [
        "from sklearn import preprocessing\n",
        "le = preprocessing.LabelEncoder()\n",
        "train_df['label'] = le.fit_transform(train_df['label']) # 라벨 인코딩"
      ],
      "metadata": {
        "id": "CZbrRNcuz9ij"
      },
      "execution_count": null,
      "outputs": []
    },
    {
      "cell_type": "code",
      "source": [
        "train_df['label'].value_counts()"
      ],
      "metadata": {
        "colab": {
          "base_uri": "https://localhost:8080/"
        },
        "id": "rcO8uAND0enE",
        "outputId": "04f85421-eec8-42e0-b1a1-3d0fa2214fdb"
      },
      "execution_count": null,
      "outputs": [
        {
          "output_type": "execute_result",
          "data": {
            "text/plain": [
              "18    1405\n",
              "10     595\n",
              "1      307\n",
              "3      210\n",
              "15     162\n",
              "2      145\n",
              "11     142\n",
              "7      130\n",
              "6       99\n",
              "9       57\n",
              "5       54\n",
              "17      51\n",
              "14      27\n",
              "12      22\n",
              "13      17\n",
              "4       14\n",
              "0       12\n",
              "16       5\n",
              "8        3\n",
              "Name: label, dtype: int64"
            ]
          },
          "metadata": {},
          "execution_count": 12
        }
      ]
    },
    {
      "cell_type": "markdown",
      "source": [
        "# WeightedRandomSampler"
      ],
      "metadata": {
        "id": "UYRPSu3PJj1d"
      }
    },
    {
      "cell_type": "code",
      "source": [
        "import torch\n",
        "from torch.utils.data import Dataset, DataLoader, WeightedRandomSampler\n",
        "\n",
        "train_labels = pd.DataFrame(df['label'])\n",
        "class_counts = train_labels.value_counts(sort=False).to_list() \n",
        "num_samples = sum(class_counts) # 전체 데이터 갯수\n",
        "labels = [train_labels]\n",
        "#클래스별 가중치 부여\n",
        "class_weights = [num_samples / class_counts[i] for i in range(len(class_counts))] #해당 레이블마다의 가중치 비율\n",
        "weights = [class_weights[labels[i]] for i in range(int(num_samples))] # 해당 데이터의 label에 해당되는 가중치\n",
        "weights = []\n",
        "for i in range(int(num_samples)):\n",
        "  weights.append(class_weights[int(train_labels.iloc[i,:])])\n",
        "sampler = WeightedRandomSampler(torch.DoubleTensor(weights), int(num_samples))\n",
        "\n"
      ],
      "metadata": {
        "id": "p0G3xXOkNWyn"
      },
      "execution_count": null,
      "outputs": []
    },
    {
      "cell_type": "code",
      "source": [
        "class CustomDataset(Dataset):\n",
        "    def __init__(self, img_path_list, label_list, transforms=None):\n",
        "        self.img_path_list = img_path_list\n",
        "        self.label_list = label_list\n",
        "        self.transforms = transforms\n",
        "        \n",
        "    def __getitem__(self, index):\n",
        "        img_path = self.img_path_list[index]\n",
        "        \n",
        "        image = cv2.imread(img_path)\n",
        "        \n",
        "        if self.transforms is not None:\n",
        "            image = self.transforms(image)\n",
        "        \n",
        "        if self.label_list is not None:\n",
        "            label = self.label_list[index]\n",
        "            return image, label\n",
        "        else:\n",
        "            return image\n",
        "        \n",
        "    def __len__(self):\n",
        "        return len(self.img_path_list)"
      ],
      "metadata": {
        "id": "RZ91DNaXNg2H"
      },
      "execution_count": null,
      "outputs": []
    },
    {
      "cell_type": "code",
      "source": [
        "class_weights"
      ],
      "metadata": {
        "colab": {
          "base_uri": "https://localhost:8080/"
        },
        "id": "mvF3LwCF3tFJ",
        "outputId": "af7acea5-750b-4bff-e612-8a1ad75385ef"
      },
      "execution_count": null,
      "outputs": [
        {
          "output_type": "execute_result",
          "data": {
            "text/plain": [
              "[288.0833333333333,\n",
              " 11.260586319218241,\n",
              " 23.841379310344827,\n",
              " 16.461904761904762,\n",
              " 246.92857142857142,\n",
              " 64.01851851851852,\n",
              " 34.91919191919192,\n",
              " 26.592307692307692,\n",
              " 1152.3333333333333,\n",
              " 60.64912280701754,\n",
              " 5.810084033613445,\n",
              " 24.345070422535212,\n",
              " 157.13636363636363,\n",
              " 203.35294117647058,\n",
              " 128.03703703703704,\n",
              " 21.339506172839506,\n",
              " 691.4,\n",
              " 67.7843137254902,\n",
              " 2.4604982206405692]"
            ]
          },
          "metadata": {},
          "execution_count": 42
        }
      ]
    },
    {
      "cell_type": "code",
      "source": [
        "pd.DataFrame(weights).value_counts()                          # 각 클래스 별 가중치. 데이터 개수가 많은 라벨일수록 작게, 데이터 개수가 적은 라벨일수록 가중치를 크게 부여해 데이터가 골고루 추출될 수 있도록 함"
      ],
      "metadata": {
        "colab": {
          "base_uri": "https://localhost:8080/"
        },
        "id": "73X6god-33yD",
        "outputId": "094da4b9-e122-423e-dc48-8e0a6f2760f9"
      },
      "execution_count": null,
      "outputs": [
        {
          "output_type": "execute_result",
          "data": {
            "text/plain": [
              "2.460498       1405\n",
              "5.810084        595\n",
              "11.260586       307\n",
              "16.461905       210\n",
              "21.339506       162\n",
              "23.841379       145\n",
              "24.345070       142\n",
              "26.592308       130\n",
              "34.919192        99\n",
              "60.649123        57\n",
              "64.018519        54\n",
              "67.784314        51\n",
              "128.037037       27\n",
              "157.136364       22\n",
              "203.352941       17\n",
              "246.928571       14\n",
              "288.083333       12\n",
              "691.400000        5\n",
              "1152.333333       3\n",
              "dtype: int64"
            ]
          },
          "metadata": {},
          "execution_count": 44
        }
      ]
    },
    {
      "cell_type": "code",
      "source": [
        "import torchvision.transforms as transforms\n",
        "bg_color = (146.9594577448965, 151.0021480420162, 153.14668947889484)\n",
        "augmentate = transforms.Compose([\n",
        "        transforms.ToTensor(),\n",
        "        transforms.Resize((256, 256)),\n",
        "        transforms.RandomCrop((240, 240)),\n",
        "        transforms.RandomHorizontalFlip(p=0.7),\n",
        "        transforms.Resize((224, 224)),\n",
        "    ])                                                      # 이미지 변형 방법 설정. 이미지들을 확인한 결과, RandomRotate와 RandomVerticalFlip을 사용할 경우 분류가 불가능한 라벨들이 있어서 배제."
      ],
      "metadata": {
        "id": "fzwsau-S3hUQ"
      },
      "execution_count": null,
      "outputs": []
    },
    {
      "cell_type": "code",
      "source": [
        "from torchvision.transforms.functional import to_pil_image                        # 변형한 이미지 텐서를 이미지 파일로 저장하기 위해 임포트"
      ],
      "metadata": {
        "id": "9jkUaDRS5Lxn"
      },
      "execution_count": null,
      "outputs": []
    },
    {
      "cell_type": "code",
      "source": [
        "df = train_df\n",
        "train_augmentate = CustomDataset(df['img_path'].values, df['label'].values, augmentate)\n",
        "augmentate_loader = DataLoader(train_augmentate, batch_size = len(df), shuffle=False, num_workers=8, sampler=sampler)                 # WeightedRandomSampler을 이용한 DataLoader"
      ],
      "metadata": {
        "id": "8h44YiRoBp08"
      },
      "execution_count": null,
      "outputs": []
    },
    {
      "cell_type": "code",
      "source": [
        "l = []    # 생성한 이미지의 라벨을 저장하기 위한 리스트\n",
        "aug_img = []    # 생성한 이미지 리스트\n",
        "for i in range(0,3):        # 데이터를 3배로 늘리고 싶기에 에폭을 3으로 설정\n",
        "  for j, (inputs,labels) in enumerate(augmentate_loader):\n",
        "    for k in tqdm(range(0,len(df))):\n",
        "      aug_img.append(to_pil_image(inputs[k]))\n",
        "      l.append(labels[k])"
      ],
      "metadata": {
        "colab": {
          "base_uri": "https://localhost:8080/",
          "height": 242,
          "referenced_widgets": [
            "91e090a0aafa4af88faabcad1fef252e",
            "f436daa2af574fcb8a44304e281460e5",
            "5a923b539ea64eb3a90566acb2ec61f3",
            "90c45b8bfb764cd38199cee3b3f71348",
            "e8d8fafc0b7b4a49b78e9f5241a36dcb",
            "4cdf46d076654649b9c769e0f9f05852",
            "74e64c98ee4e476aae6969d4a6be3151",
            "35abcdb79e2348ad8198e74ee4635bd3",
            "f310a46723f24c96ae40725f9c8f0f47",
            "d552d14a88a541cea4f968fd01ac1226",
            "9d31643026f247ea84f846ea192de702",
            "ba2ff5423c764b65b13997cab0c48200",
            "4224a7fa421549e79413d3b6694a5ecf",
            "45e199a3304a4d53a4d296aabe79722a",
            "49aa09127e314817aeccbeb30647e176",
            "2f4881885dff4bfc89cfb213a93d145f",
            "697e6c3214cf49099e67d82fc808c8bf",
            "316455ac2f5a434da6b7158a3cdfa64e",
            "c6dfcecb09fb49b18f6d4ad203aee480",
            "a9ca9d4d00974333a408f8d3b59ad9e6",
            "131a349a62e84a198ddb4ac66533b82c",
            "c5e58724b3cb4d2a8eaeeb9d403b7b44",
            "0f3c7db1adf34d9e85e86155980acc6d",
            "d3d74e4e775f44eda12bd6e362938db0",
            "6c4a1fd9a4f543bcbf235a0dd1480a45",
            "a3721c4938494e23a99e225062e56f28",
            "8d0136711f414ebdbcfd109d22951849",
            "e421f9d2477f4ac1a73d4f3d90500c75",
            "e5864f1d1a1f49fd85de7df2832c1419",
            "b13ac0ef63bf49b495a1cfb4e163d47c",
            "b1da3120c25f4838b0be088c333f9a29",
            "b5237cdca213491ab3060a11d01d70c3",
            "3c19a19d7f504bfbb8c8f6acda16186d"
          ]
        },
        "id": "-W8aTSH4Ly5m",
        "outputId": "aa67684a-d511-436e-c8aa-e4c138cd5981"
      },
      "execution_count": null,
      "outputs": [
        {
          "output_type": "stream",
          "name": "stderr",
          "text": [
            "Exception ignored in: <function tqdm.__del__ at 0x7f5a9ef043a0>\n",
            "Traceback (most recent call last):\n",
            "  File \"/usr/local/lib/python3.9/dist-packages/tqdm/std.py\", line 1145, in __del__\n",
            "    self.close()\n",
            "  File \"/usr/local/lib/python3.9/dist-packages/tqdm/notebook.py\", line 283, in close\n",
            "    self.disp(bar_style='danger', check_delay=False)\n",
            "AttributeError: 'tqdm' object has no attribute 'disp'\n"
          ]
        },
        {
          "output_type": "display_data",
          "data": {
            "text/plain": [
              "  0%|          | 0/3457 [00:00<?, ?it/s]"
            ],
            "application/vnd.jupyter.widget-view+json": {
              "version_major": 2,
              "version_minor": 0,
              "model_id": "91e090a0aafa4af88faabcad1fef252e"
            }
          },
          "metadata": {}
        },
        {
          "output_type": "display_data",
          "data": {
            "text/plain": [
              "  0%|          | 0/3457 [00:00<?, ?it/s]"
            ],
            "application/vnd.jupyter.widget-view+json": {
              "version_major": 2,
              "version_minor": 0,
              "model_id": "ba2ff5423c764b65b13997cab0c48200"
            }
          },
          "metadata": {}
        },
        {
          "output_type": "display_data",
          "data": {
            "text/plain": [
              "  0%|          | 0/3457 [00:00<?, ?it/s]"
            ],
            "application/vnd.jupyter.widget-view+json": {
              "version_major": 2,
              "version_minor": 0,
              "model_id": "0f3c7db1adf34d9e85e86155980acc6d"
            }
          },
          "metadata": {}
        }
      ]
    },
    {
      "cell_type": "code",
      "source": [
        "l=pd.DataFrame(l).astype(int)  "
      ],
      "metadata": {
        "id": "ac78gI0PB8cC"
      },
      "execution_count": null,
      "outputs": []
    },
    {
      "cell_type": "code",
      "source": [
        "pd.DataFrame(l).astype(int).value_counts()              # 생성된 이미지들의 라벨 분류. 골고루 생성된 것을 확인 할 수 있다."
      ],
      "metadata": {
        "colab": {
          "base_uri": "https://localhost:8080/"
        },
        "id": "aDVHn0SlBP8Y",
        "outputId": "c76a53d2-88c1-47e6-9ad3-f2bfe37c028d"
      },
      "execution_count": null,
      "outputs": [
        {
          "output_type": "execute_result",
          "data": {
            "text/plain": [
              "15    569\n",
              "5     560\n",
              "7     560\n",
              "9     559\n",
              "10    559\n",
              "2     559\n",
              "11    558\n",
              "12    556\n",
              "1     554\n",
              "13    550\n",
              "0     549\n",
              "17    548\n",
              "8     543\n",
              "4     532\n",
              "14    531\n",
              "3     524\n",
              "18    522\n",
              "6     519\n",
              "16    519\n",
              "dtype: int64"
            ]
          },
          "metadata": {},
          "execution_count": 220
        }
      ]
    },
    {
      "cell_type": "code",
      "source": [
        "import os\n",
        "for i in range(0,19):\n",
        "  os.mkdir(\"/content/gdrive/MyDrive/open (2)/aug/\"+f'{i}')               # 이미지 저장을 위해 폴더 생성"
      ],
      "metadata": {
        "id": "-Kk1jNw-XTrf"
      },
      "execution_count": null,
      "outputs": []
    },
    {
      "cell_type": "code",
      "source": [
        "for i in range(len(l)):\n",
        "  aug_img[i].save('/content/gdrive/MyDrive/open (2)/aug/'+f'{int(l.iloc[i,:])}/'+f'{i}.jpg')            # 생성한 이미지들을 라벨에 맞는 폴더에 저장"
      ],
      "metadata": {
        "id": "Ms0no_UMU_cS"
      },
      "execution_count": null,
      "outputs": []
    }
  ]
}