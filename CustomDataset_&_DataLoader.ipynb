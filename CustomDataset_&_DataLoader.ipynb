{
  "nbformat": 4,
  "nbformat_minor": 0,
  "metadata": {
    "colab": {
      "provenance": [],
      "authorship_tag": "ABX9TyPkRHvbpGLU72Hiy6XVaosf"
    },
    "kernelspec": {
      "name": "python3",
      "display_name": "Python 3"
    },
    "language_info": {
      "name": "python"
    }
  },
  "cells": [
    {
      "cell_type": "code",
      "execution_count": null,
      "metadata": {
        "id": "LhLYuXSA8ale"
      },
      "outputs": [],
      "source": []
    },
    {
      "cell_type": "code",
      "source": [
        "import random\n",
        "import pandas as pd\n",
        "import numpy as np\n",
        "import os\n",
        "import re\n",
        "import glob\n",
        "import cv2\n",
        "\n",
        "import torch\n",
        "import torch.nn as nn\n",
        "import torch.optim as optim\n",
        "import torch.nn.functional as F\n",
        "from torch.utils.data import Dataset, DataLoader, WeightedRandomSampler, SubsetRandomSampler\n",
        "\n",
        "import albumentations as A\n",
        "from albumentations.pytorch.transforms import ToTensorV2\n",
        "import torchvision.models as models\n",
        "\n",
        "from sklearn.model_selection import train_test_split\n",
        "from sklearn import preprocessing\n",
        "from sklearn.metrics import f1_score\n",
        "from sklearn.metrics import classification_report\n",
        "from tqdm.auto import tqdm\n",
        "\n",
        "\n",
        "from torchvision.transforms.functional import to_pil_image\n",
        "\n",
        "import warnings\n",
        "warnings.filterwarnings(action='ignore') "
      ],
      "metadata": {
        "id": "PsN6EwiI-atv"
      },
      "execution_count": null,
      "outputs": []
    },
    {
      "cell_type": "markdown",
      "source": [
        "# 기본 설정"
      ],
      "metadata": {
        "id": "mLkwwIOW9o8q"
      }
    },
    {
      "cell_type": "code",
      "source": [
        "from google.colab import drive\n",
        "drive.mount('/content/gdrive')"
      ],
      "metadata": {
        "id": "wcmy52e4imYd"
      },
      "execution_count": null,
      "outputs": []
    },
    {
      "cell_type": "code",
      "source": [
        "device = torch.device('cuda') if torch.cuda.is_available() else torch.device('cpu')"
      ],
      "metadata": {
        "id": "SSZS1oXf55BT"
      },
      "execution_count": null,
      "outputs": []
    },
    {
      "cell_type": "code",
      "source": [
        "device"
      ],
      "metadata": {
        "colab": {
          "base_uri": "https://localhost:8080/"
        },
        "id": "1SyBj5kF26bA",
        "outputId": "f4a43993-e314-4301-a01a-ad02a3295f98"
      },
      "execution_count": null,
      "outputs": [
        {
          "output_type": "execute_result",
          "data": {
            "text/plain": [
              "device(type='cuda')"
            ]
          },
          "metadata": {},
          "execution_count": 3
        }
      ]
    },
    {
      "cell_type": "code",
      "source": [
        "CFG = {\n",
        "    'IMG_SIZE':224,\n",
        "    'EPOCHS':10,\n",
        "    'LEARNING_RATE':3e-4,\n",
        "    'BATCH_SIZE':32,\n",
        "    'SEED':41\n",
        "}"
      ],
      "metadata": {
        "id": "86YEsedL55DS"
      },
      "execution_count": null,
      "outputs": []
    },
    {
      "cell_type": "code",
      "source": [
        "def seed_everything(seed):\n",
        "    random.seed(seed)\n",
        "    os.environ['PYTHONHASHSEED'] = str(seed)\n",
        "    np.random.seed(seed)\n",
        "    torch.manual_seed(seed)\n",
        "    torch.cuda.manual_seed(seed)\n",
        "    torch.backends.cudnn.deterministic = True\n",
        "    torch.backends.cudnn.benchmark = True\n",
        "\n",
        "seed_everything(CFG['SEED']) # Seed 고정"
      ],
      "metadata": {
        "id": "DTReiBAXBh5a"
      },
      "execution_count": null,
      "outputs": []
    },
    {
      "cell_type": "markdown",
      "source": [
        "# 데이터 로드"
      ],
      "metadata": {
        "id": "4KW9T_Y39ha-"
      }
    },
    {
      "cell_type": "code",
      "source": [
        "base_dir = '/content/gdrive/MyDrive/open (2)/'"
      ],
      "metadata": {
        "id": "YE5bhNNvB7Oq"
      },
      "execution_count": null,
      "outputs": []
    },
    {
      "cell_type": "code",
      "source": [
        "train_folder = glob.glob(base_dir + 'train/*')"
      ],
      "metadata": {
        "id": "QKrFNDU1B4aO"
      },
      "execution_count": null,
      "outputs": []
    },
    {
      "cell_type": "code",
      "source": [
        "train_img_list = glob.glob(base_dir + 'train/*/*')"
      ],
      "metadata": {
        "id": "Z7almBzzCErC"
      },
      "execution_count": null,
      "outputs": []
    },
    {
      "cell_type": "code",
      "source": [
        "aug_img_list = glob.glob(base_dir + 'aug/*/*')"
      ],
      "metadata": {
        "id": "Wa2QrcPedBsc"
      },
      "execution_count": null,
      "outputs": []
    },
    {
      "cell_type": "code",
      "source": [
        "train = pd.DataFrame(columns=['img_path', 'label'])     # 원본 이미지\n",
        "train['img_path'] = train_img_list         # 이미지 경로 저장\n",
        "train['label'] = train['img_path'].apply(lambda x : str(x).split('/')[-2])    # 라벨 저장"
      ],
      "metadata": {
        "id": "7_RSSI1SBh-s"
      },
      "execution_count": null,
      "outputs": []
    },
    {
      "cell_type": "code",
      "source": [
        "aug = pd.DataFrame(columns=['img_path', 'label'])        # WeightedRandomSampler, Augmentation을 적용한 추가 이미지\n",
        "aug['img_path'] = aug_img_list\n",
        "aug['label'] = aug['img_path'].apply(lambda x : str(x).split('/')[-2])"
      ],
      "metadata": {
        "id": "zxkst9CQdK3h"
      },
      "execution_count": null,
      "outputs": []
    },
    {
      "cell_type": "code",
      "source": [
        "le = preprocessing.LabelEncoder()\n",
        "train['label'] = le.fit_transform(train['label'])"
      ],
      "metadata": {
        "id": "REB0mpK4BiBG"
      },
      "execution_count": null,
      "outputs": []
    },
    {
      "cell_type": "code",
      "source": [
        "df = pd.concat([train,aug])             # 원본 데이터와 추가 데이터를 합쳐서 훈련할 예정"
      ],
      "metadata": {
        "id": "bXsXw8Czdy1I"
      },
      "execution_count": null,
      "outputs": []
    },
    {
      "cell_type": "code",
      "source": [
        "df['label'] = df['label'].astype(int)"
      ],
      "metadata": {
        "id": "sMy94riatSob"
      },
      "execution_count": null,
      "outputs": []
    },
    {
      "cell_type": "code",
      "source": [
        "train"
      ],
      "metadata": {
        "colab": {
          "base_uri": "https://localhost:8080/",
          "height": 424
        },
        "id": "c94SYraM3HJm",
        "outputId": "5335e35c-0da2-49dc-832d-ec5a5f0c7b3a"
      },
      "execution_count": null,
      "outputs": [
        {
          "output_type": "execute_result",
          "data": {
            "text/plain": [
              "                                               img_path  label\n",
              "0     /content/gdrive/MyDrive/open (2)/train/가구수ᄌ...      0\n",
              "1     /content/gdrive/MyDrive/open (2)/train/가구수ᄌ...      0\n",
              "2     /content/gdrive/MyDrive/open (2)/train/가구수ᄌ...      0\n",
              "3     /content/gdrive/MyDrive/open (2)/train/가구수ᄌ...      0\n",
              "4     /content/gdrive/MyDrive/open (2)/train/가구수ᄌ...      0\n",
              "...                                                 ...    ...\n",
              "3452  /content/gdrive/MyDrive/open (2)/train/틈새과...     16\n",
              "3453  /content/gdrive/MyDrive/open (2)/train/틈새과...     16\n",
              "3454  /content/gdrive/MyDrive/open (2)/train/틈새과...     16\n",
              "3455  /content/gdrive/MyDrive/open (2)/train/틈새과...     16\n",
              "3456  /content/gdrive/MyDrive/open (2)/train/틈새과...     16\n",
              "\n",
              "[3457 rows x 2 columns]"
            ],
            "text/html": [
              "\n",
              "  <div id=\"df-889ca5ff-065a-4a44-8886-a601d7662b6f\">\n",
              "    <div class=\"colab-df-container\">\n",
              "      <div>\n",
              "<style scoped>\n",
              "    .dataframe tbody tr th:only-of-type {\n",
              "        vertical-align: middle;\n",
              "    }\n",
              "\n",
              "    .dataframe tbody tr th {\n",
              "        vertical-align: top;\n",
              "    }\n",
              "\n",
              "    .dataframe thead th {\n",
              "        text-align: right;\n",
              "    }\n",
              "</style>\n",
              "<table border=\"1\" class=\"dataframe\">\n",
              "  <thead>\n",
              "    <tr style=\"text-align: right;\">\n",
              "      <th></th>\n",
              "      <th>img_path</th>\n",
              "      <th>label</th>\n",
              "    </tr>\n",
              "  </thead>\n",
              "  <tbody>\n",
              "    <tr>\n",
              "      <th>0</th>\n",
              "      <td>/content/gdrive/MyDrive/open (2)/train/가구수ᄌ...</td>\n",
              "      <td>0</td>\n",
              "    </tr>\n",
              "    <tr>\n",
              "      <th>1</th>\n",
              "      <td>/content/gdrive/MyDrive/open (2)/train/가구수ᄌ...</td>\n",
              "      <td>0</td>\n",
              "    </tr>\n",
              "    <tr>\n",
              "      <th>2</th>\n",
              "      <td>/content/gdrive/MyDrive/open (2)/train/가구수ᄌ...</td>\n",
              "      <td>0</td>\n",
              "    </tr>\n",
              "    <tr>\n",
              "      <th>3</th>\n",
              "      <td>/content/gdrive/MyDrive/open (2)/train/가구수ᄌ...</td>\n",
              "      <td>0</td>\n",
              "    </tr>\n",
              "    <tr>\n",
              "      <th>4</th>\n",
              "      <td>/content/gdrive/MyDrive/open (2)/train/가구수ᄌ...</td>\n",
              "      <td>0</td>\n",
              "    </tr>\n",
              "    <tr>\n",
              "      <th>...</th>\n",
              "      <td>...</td>\n",
              "      <td>...</td>\n",
              "    </tr>\n",
              "    <tr>\n",
              "      <th>3452</th>\n",
              "      <td>/content/gdrive/MyDrive/open (2)/train/틈새과...</td>\n",
              "      <td>16</td>\n",
              "    </tr>\n",
              "    <tr>\n",
              "      <th>3453</th>\n",
              "      <td>/content/gdrive/MyDrive/open (2)/train/틈새과...</td>\n",
              "      <td>16</td>\n",
              "    </tr>\n",
              "    <tr>\n",
              "      <th>3454</th>\n",
              "      <td>/content/gdrive/MyDrive/open (2)/train/틈새과...</td>\n",
              "      <td>16</td>\n",
              "    </tr>\n",
              "    <tr>\n",
              "      <th>3455</th>\n",
              "      <td>/content/gdrive/MyDrive/open (2)/train/틈새과...</td>\n",
              "      <td>16</td>\n",
              "    </tr>\n",
              "    <tr>\n",
              "      <th>3456</th>\n",
              "      <td>/content/gdrive/MyDrive/open (2)/train/틈새과...</td>\n",
              "      <td>16</td>\n",
              "    </tr>\n",
              "  </tbody>\n",
              "</table>\n",
              "<p>3457 rows × 2 columns</p>\n",
              "</div>\n",
              "      <button class=\"colab-df-convert\" onclick=\"convertToInteractive('df-889ca5ff-065a-4a44-8886-a601d7662b6f')\"\n",
              "              title=\"Convert this dataframe to an interactive table.\"\n",
              "              style=\"display:none;\">\n",
              "        \n",
              "  <svg xmlns=\"http://www.w3.org/2000/svg\" height=\"24px\"viewBox=\"0 0 24 24\"\n",
              "       width=\"24px\">\n",
              "    <path d=\"M0 0h24v24H0V0z\" fill=\"none\"/>\n",
              "    <path d=\"M18.56 5.44l.94 2.06.94-2.06 2.06-.94-2.06-.94-.94-2.06-.94 2.06-2.06.94zm-11 1L8.5 8.5l.94-2.06 2.06-.94-2.06-.94L8.5 2.5l-.94 2.06-2.06.94zm10 10l.94 2.06.94-2.06 2.06-.94-2.06-.94-.94-2.06-.94 2.06-2.06.94z\"/><path d=\"M17.41 7.96l-1.37-1.37c-.4-.4-.92-.59-1.43-.59-.52 0-1.04.2-1.43.59L10.3 9.45l-7.72 7.72c-.78.78-.78 2.05 0 2.83L4 21.41c.39.39.9.59 1.41.59.51 0 1.02-.2 1.41-.59l7.78-7.78 2.81-2.81c.8-.78.8-2.07 0-2.86zM5.41 20L4 18.59l7.72-7.72 1.47 1.35L5.41 20z\"/>\n",
              "  </svg>\n",
              "      </button>\n",
              "      \n",
              "  <style>\n",
              "    .colab-df-container {\n",
              "      display:flex;\n",
              "      flex-wrap:wrap;\n",
              "      gap: 12px;\n",
              "    }\n",
              "\n",
              "    .colab-df-convert {\n",
              "      background-color: #E8F0FE;\n",
              "      border: none;\n",
              "      border-radius: 50%;\n",
              "      cursor: pointer;\n",
              "      display: none;\n",
              "      fill: #1967D2;\n",
              "      height: 32px;\n",
              "      padding: 0 0 0 0;\n",
              "      width: 32px;\n",
              "    }\n",
              "\n",
              "    .colab-df-convert:hover {\n",
              "      background-color: #E2EBFA;\n",
              "      box-shadow: 0px 1px 2px rgba(60, 64, 67, 0.3), 0px 1px 3px 1px rgba(60, 64, 67, 0.15);\n",
              "      fill: #174EA6;\n",
              "    }\n",
              "\n",
              "    [theme=dark] .colab-df-convert {\n",
              "      background-color: #3B4455;\n",
              "      fill: #D2E3FC;\n",
              "    }\n",
              "\n",
              "    [theme=dark] .colab-df-convert:hover {\n",
              "      background-color: #434B5C;\n",
              "      box-shadow: 0px 1px 3px 1px rgba(0, 0, 0, 0.15);\n",
              "      filter: drop-shadow(0px 1px 2px rgba(0, 0, 0, 0.3));\n",
              "      fill: #FFFFFF;\n",
              "    }\n",
              "  </style>\n",
              "\n",
              "      <script>\n",
              "        const buttonEl =\n",
              "          document.querySelector('#df-889ca5ff-065a-4a44-8886-a601d7662b6f button.colab-df-convert');\n",
              "        buttonEl.style.display =\n",
              "          google.colab.kernel.accessAllowed ? 'block' : 'none';\n",
              "\n",
              "        async function convertToInteractive(key) {\n",
              "          const element = document.querySelector('#df-889ca5ff-065a-4a44-8886-a601d7662b6f');\n",
              "          const dataTable =\n",
              "            await google.colab.kernel.invokeFunction('convertToInteractive',\n",
              "                                                     [key], {});\n",
              "          if (!dataTable) return;\n",
              "\n",
              "          const docLinkHtml = 'Like what you see? Visit the ' +\n",
              "            '<a target=\"_blank\" href=https://colab.research.google.com/notebooks/data_table.ipynb>data table notebook</a>'\n",
              "            + ' to learn more about interactive tables.';\n",
              "          element.innerHTML = '';\n",
              "          dataTable['output_type'] = 'display_data';\n",
              "          await google.colab.output.renderOutput(dataTable, element);\n",
              "          const docLink = document.createElement('div');\n",
              "          docLink.innerHTML = docLinkHtml;\n",
              "          element.appendChild(docLink);\n",
              "        }\n",
              "      </script>\n",
              "    </div>\n",
              "  </div>\n",
              "  "
            ]
          },
          "metadata": {},
          "execution_count": 31
        }
      ]
    },
    {
      "cell_type": "code",
      "source": [
        "aug"
      ],
      "metadata": {
        "colab": {
          "base_uri": "https://localhost:8080/",
          "height": 424
        },
        "id": "C1ElmtnmdqAF",
        "outputId": "e1b9393f-27e2-415d-b290-af7bc0059afc"
      },
      "execution_count": null,
      "outputs": [
        {
          "output_type": "execute_result",
          "data": {
            "text/plain": [
              "                                                img_path label\n",
              "0          /content/gdrive/MyDrive/open (2)/aug/0/20.jpg     0\n",
              "1          /content/gdrive/MyDrive/open (2)/aug/0/37.jpg     0\n",
              "2          /content/gdrive/MyDrive/open (2)/aug/0/63.jpg     0\n",
              "3          /content/gdrive/MyDrive/open (2)/aug/0/64.jpg     0\n",
              "4          /content/gdrive/MyDrive/open (2)/aug/0/71.jpg     0\n",
              "...                                                  ...   ...\n",
              "10366  /content/gdrive/MyDrive/open (2)/aug/18/10319.jpg    18\n",
              "10367  /content/gdrive/MyDrive/open (2)/aug/18/10321.jpg    18\n",
              "10368  /content/gdrive/MyDrive/open (2)/aug/18/10335.jpg    18\n",
              "10369  /content/gdrive/MyDrive/open (2)/aug/18/10344.jpg    18\n",
              "10370  /content/gdrive/MyDrive/open (2)/aug/18/10360.jpg    18\n",
              "\n",
              "[10371 rows x 2 columns]"
            ],
            "text/html": [
              "\n",
              "  <div id=\"df-38ae09c1-b76f-42b7-b3bd-53fc580e9b86\">\n",
              "    <div class=\"colab-df-container\">\n",
              "      <div>\n",
              "<style scoped>\n",
              "    .dataframe tbody tr th:only-of-type {\n",
              "        vertical-align: middle;\n",
              "    }\n",
              "\n",
              "    .dataframe tbody tr th {\n",
              "        vertical-align: top;\n",
              "    }\n",
              "\n",
              "    .dataframe thead th {\n",
              "        text-align: right;\n",
              "    }\n",
              "</style>\n",
              "<table border=\"1\" class=\"dataframe\">\n",
              "  <thead>\n",
              "    <tr style=\"text-align: right;\">\n",
              "      <th></th>\n",
              "      <th>img_path</th>\n",
              "      <th>label</th>\n",
              "    </tr>\n",
              "  </thead>\n",
              "  <tbody>\n",
              "    <tr>\n",
              "      <th>0</th>\n",
              "      <td>/content/gdrive/MyDrive/open (2)/aug/0/20.jpg</td>\n",
              "      <td>0</td>\n",
              "    </tr>\n",
              "    <tr>\n",
              "      <th>1</th>\n",
              "      <td>/content/gdrive/MyDrive/open (2)/aug/0/37.jpg</td>\n",
              "      <td>0</td>\n",
              "    </tr>\n",
              "    <tr>\n",
              "      <th>2</th>\n",
              "      <td>/content/gdrive/MyDrive/open (2)/aug/0/63.jpg</td>\n",
              "      <td>0</td>\n",
              "    </tr>\n",
              "    <tr>\n",
              "      <th>3</th>\n",
              "      <td>/content/gdrive/MyDrive/open (2)/aug/0/64.jpg</td>\n",
              "      <td>0</td>\n",
              "    </tr>\n",
              "    <tr>\n",
              "      <th>4</th>\n",
              "      <td>/content/gdrive/MyDrive/open (2)/aug/0/71.jpg</td>\n",
              "      <td>0</td>\n",
              "    </tr>\n",
              "    <tr>\n",
              "      <th>...</th>\n",
              "      <td>...</td>\n",
              "      <td>...</td>\n",
              "    </tr>\n",
              "    <tr>\n",
              "      <th>10366</th>\n",
              "      <td>/content/gdrive/MyDrive/open (2)/aug/18/10319.jpg</td>\n",
              "      <td>18</td>\n",
              "    </tr>\n",
              "    <tr>\n",
              "      <th>10367</th>\n",
              "      <td>/content/gdrive/MyDrive/open (2)/aug/18/10321.jpg</td>\n",
              "      <td>18</td>\n",
              "    </tr>\n",
              "    <tr>\n",
              "      <th>10368</th>\n",
              "      <td>/content/gdrive/MyDrive/open (2)/aug/18/10335.jpg</td>\n",
              "      <td>18</td>\n",
              "    </tr>\n",
              "    <tr>\n",
              "      <th>10369</th>\n",
              "      <td>/content/gdrive/MyDrive/open (2)/aug/18/10344.jpg</td>\n",
              "      <td>18</td>\n",
              "    </tr>\n",
              "    <tr>\n",
              "      <th>10370</th>\n",
              "      <td>/content/gdrive/MyDrive/open (2)/aug/18/10360.jpg</td>\n",
              "      <td>18</td>\n",
              "    </tr>\n",
              "  </tbody>\n",
              "</table>\n",
              "<p>10371 rows × 2 columns</p>\n",
              "</div>\n",
              "      <button class=\"colab-df-convert\" onclick=\"convertToInteractive('df-38ae09c1-b76f-42b7-b3bd-53fc580e9b86')\"\n",
              "              title=\"Convert this dataframe to an interactive table.\"\n",
              "              style=\"display:none;\">\n",
              "        \n",
              "  <svg xmlns=\"http://www.w3.org/2000/svg\" height=\"24px\"viewBox=\"0 0 24 24\"\n",
              "       width=\"24px\">\n",
              "    <path d=\"M0 0h24v24H0V0z\" fill=\"none\"/>\n",
              "    <path d=\"M18.56 5.44l.94 2.06.94-2.06 2.06-.94-2.06-.94-.94-2.06-.94 2.06-2.06.94zm-11 1L8.5 8.5l.94-2.06 2.06-.94-2.06-.94L8.5 2.5l-.94 2.06-2.06.94zm10 10l.94 2.06.94-2.06 2.06-.94-2.06-.94-.94-2.06-.94 2.06-2.06.94z\"/><path d=\"M17.41 7.96l-1.37-1.37c-.4-.4-.92-.59-1.43-.59-.52 0-1.04.2-1.43.59L10.3 9.45l-7.72 7.72c-.78.78-.78 2.05 0 2.83L4 21.41c.39.39.9.59 1.41.59.51 0 1.02-.2 1.41-.59l7.78-7.78 2.81-2.81c.8-.78.8-2.07 0-2.86zM5.41 20L4 18.59l7.72-7.72 1.47 1.35L5.41 20z\"/>\n",
              "  </svg>\n",
              "      </button>\n",
              "      \n",
              "  <style>\n",
              "    .colab-df-container {\n",
              "      display:flex;\n",
              "      flex-wrap:wrap;\n",
              "      gap: 12px;\n",
              "    }\n",
              "\n",
              "    .colab-df-convert {\n",
              "      background-color: #E8F0FE;\n",
              "      border: none;\n",
              "      border-radius: 50%;\n",
              "      cursor: pointer;\n",
              "      display: none;\n",
              "      fill: #1967D2;\n",
              "      height: 32px;\n",
              "      padding: 0 0 0 0;\n",
              "      width: 32px;\n",
              "    }\n",
              "\n",
              "    .colab-df-convert:hover {\n",
              "      background-color: #E2EBFA;\n",
              "      box-shadow: 0px 1px 2px rgba(60, 64, 67, 0.3), 0px 1px 3px 1px rgba(60, 64, 67, 0.15);\n",
              "      fill: #174EA6;\n",
              "    }\n",
              "\n",
              "    [theme=dark] .colab-df-convert {\n",
              "      background-color: #3B4455;\n",
              "      fill: #D2E3FC;\n",
              "    }\n",
              "\n",
              "    [theme=dark] .colab-df-convert:hover {\n",
              "      background-color: #434B5C;\n",
              "      box-shadow: 0px 1px 3px 1px rgba(0, 0, 0, 0.15);\n",
              "      filter: drop-shadow(0px 1px 2px rgba(0, 0, 0, 0.3));\n",
              "      fill: #FFFFFF;\n",
              "    }\n",
              "  </style>\n",
              "\n",
              "      <script>\n",
              "        const buttonEl =\n",
              "          document.querySelector('#df-38ae09c1-b76f-42b7-b3bd-53fc580e9b86 button.colab-df-convert');\n",
              "        buttonEl.style.display =\n",
              "          google.colab.kernel.accessAllowed ? 'block' : 'none';\n",
              "\n",
              "        async function convertToInteractive(key) {\n",
              "          const element = document.querySelector('#df-38ae09c1-b76f-42b7-b3bd-53fc580e9b86');\n",
              "          const dataTable =\n",
              "            await google.colab.kernel.invokeFunction('convertToInteractive',\n",
              "                                                     [key], {});\n",
              "          if (!dataTable) return;\n",
              "\n",
              "          const docLinkHtml = 'Like what you see? Visit the ' +\n",
              "            '<a target=\"_blank\" href=https://colab.research.google.com/notebooks/data_table.ipynb>data table notebook</a>'\n",
              "            + ' to learn more about interactive tables.';\n",
              "          element.innerHTML = '';\n",
              "          dataTable['output_type'] = 'display_data';\n",
              "          await google.colab.output.renderOutput(dataTable, element);\n",
              "          const docLink = document.createElement('div');\n",
              "          docLink.innerHTML = docLinkHtml;\n",
              "          element.appendChild(docLink);\n",
              "        }\n",
              "      </script>\n",
              "    </div>\n",
              "  </div>\n",
              "  "
            ]
          },
          "metadata": {},
          "execution_count": 21
        }
      ]
    },
    {
      "cell_type": "code",
      "source": [
        "df"
      ],
      "metadata": {
        "colab": {
          "base_uri": "https://localhost:8080/",
          "height": 424
        },
        "id": "MVrtXQ91dyGM",
        "outputId": "ad573bca-8185-400d-8915-98bd62db26ad"
      },
      "execution_count": null,
      "outputs": [
        {
          "output_type": "execute_result",
          "data": {
            "text/plain": [
              "                                                img_path  label\n",
              "0      /content/gdrive/MyDrive/open (2)/train/가구수ᄌ...      0\n",
              "1      /content/gdrive/MyDrive/open (2)/train/가구수ᄌ...      0\n",
              "2      /content/gdrive/MyDrive/open (2)/train/가구수ᄌ...      0\n",
              "3      /content/gdrive/MyDrive/open (2)/train/가구수ᄌ...      0\n",
              "4      /content/gdrive/MyDrive/open (2)/train/가구수ᄌ...      0\n",
              "...                                                  ...    ...\n",
              "10366  /content/gdrive/MyDrive/open (2)/aug/18/10319.jpg     18\n",
              "10367  /content/gdrive/MyDrive/open (2)/aug/18/10321.jpg     18\n",
              "10368  /content/gdrive/MyDrive/open (2)/aug/18/10335.jpg     18\n",
              "10369  /content/gdrive/MyDrive/open (2)/aug/18/10344.jpg     18\n",
              "10370  /content/gdrive/MyDrive/open (2)/aug/18/10360.jpg     18\n",
              "\n",
              "[13828 rows x 2 columns]"
            ],
            "text/html": [
              "\n",
              "  <div id=\"df-9ed0ce81-a39b-42d8-ac1b-8e0d4321cdfa\">\n",
              "    <div class=\"colab-df-container\">\n",
              "      <div>\n",
              "<style scoped>\n",
              "    .dataframe tbody tr th:only-of-type {\n",
              "        vertical-align: middle;\n",
              "    }\n",
              "\n",
              "    .dataframe tbody tr th {\n",
              "        vertical-align: top;\n",
              "    }\n",
              "\n",
              "    .dataframe thead th {\n",
              "        text-align: right;\n",
              "    }\n",
              "</style>\n",
              "<table border=\"1\" class=\"dataframe\">\n",
              "  <thead>\n",
              "    <tr style=\"text-align: right;\">\n",
              "      <th></th>\n",
              "      <th>img_path</th>\n",
              "      <th>label</th>\n",
              "    </tr>\n",
              "  </thead>\n",
              "  <tbody>\n",
              "    <tr>\n",
              "      <th>0</th>\n",
              "      <td>/content/gdrive/MyDrive/open (2)/train/가구수ᄌ...</td>\n",
              "      <td>0</td>\n",
              "    </tr>\n",
              "    <tr>\n",
              "      <th>1</th>\n",
              "      <td>/content/gdrive/MyDrive/open (2)/train/가구수ᄌ...</td>\n",
              "      <td>0</td>\n",
              "    </tr>\n",
              "    <tr>\n",
              "      <th>2</th>\n",
              "      <td>/content/gdrive/MyDrive/open (2)/train/가구수ᄌ...</td>\n",
              "      <td>0</td>\n",
              "    </tr>\n",
              "    <tr>\n",
              "      <th>3</th>\n",
              "      <td>/content/gdrive/MyDrive/open (2)/train/가구수ᄌ...</td>\n",
              "      <td>0</td>\n",
              "    </tr>\n",
              "    <tr>\n",
              "      <th>4</th>\n",
              "      <td>/content/gdrive/MyDrive/open (2)/train/가구수ᄌ...</td>\n",
              "      <td>0</td>\n",
              "    </tr>\n",
              "    <tr>\n",
              "      <th>...</th>\n",
              "      <td>...</td>\n",
              "      <td>...</td>\n",
              "    </tr>\n",
              "    <tr>\n",
              "      <th>10366</th>\n",
              "      <td>/content/gdrive/MyDrive/open (2)/aug/18/10319.jpg</td>\n",
              "      <td>18</td>\n",
              "    </tr>\n",
              "    <tr>\n",
              "      <th>10367</th>\n",
              "      <td>/content/gdrive/MyDrive/open (2)/aug/18/10321.jpg</td>\n",
              "      <td>18</td>\n",
              "    </tr>\n",
              "    <tr>\n",
              "      <th>10368</th>\n",
              "      <td>/content/gdrive/MyDrive/open (2)/aug/18/10335.jpg</td>\n",
              "      <td>18</td>\n",
              "    </tr>\n",
              "    <tr>\n",
              "      <th>10369</th>\n",
              "      <td>/content/gdrive/MyDrive/open (2)/aug/18/10344.jpg</td>\n",
              "      <td>18</td>\n",
              "    </tr>\n",
              "    <tr>\n",
              "      <th>10370</th>\n",
              "      <td>/content/gdrive/MyDrive/open (2)/aug/18/10360.jpg</td>\n",
              "      <td>18</td>\n",
              "    </tr>\n",
              "  </tbody>\n",
              "</table>\n",
              "<p>13828 rows × 2 columns</p>\n",
              "</div>\n",
              "      <button class=\"colab-df-convert\" onclick=\"convertToInteractive('df-9ed0ce81-a39b-42d8-ac1b-8e0d4321cdfa')\"\n",
              "              title=\"Convert this dataframe to an interactive table.\"\n",
              "              style=\"display:none;\">\n",
              "        \n",
              "  <svg xmlns=\"http://www.w3.org/2000/svg\" height=\"24px\"viewBox=\"0 0 24 24\"\n",
              "       width=\"24px\">\n",
              "    <path d=\"M0 0h24v24H0V0z\" fill=\"none\"/>\n",
              "    <path d=\"M18.56 5.44l.94 2.06.94-2.06 2.06-.94-2.06-.94-.94-2.06-.94 2.06-2.06.94zm-11 1L8.5 8.5l.94-2.06 2.06-.94-2.06-.94L8.5 2.5l-.94 2.06-2.06.94zm10 10l.94 2.06.94-2.06 2.06-.94-2.06-.94-.94-2.06-.94 2.06-2.06.94z\"/><path d=\"M17.41 7.96l-1.37-1.37c-.4-.4-.92-.59-1.43-.59-.52 0-1.04.2-1.43.59L10.3 9.45l-7.72 7.72c-.78.78-.78 2.05 0 2.83L4 21.41c.39.39.9.59 1.41.59.51 0 1.02-.2 1.41-.59l7.78-7.78 2.81-2.81c.8-.78.8-2.07 0-2.86zM5.41 20L4 18.59l7.72-7.72 1.47 1.35L5.41 20z\"/>\n",
              "  </svg>\n",
              "      </button>\n",
              "      \n",
              "  <style>\n",
              "    .colab-df-container {\n",
              "      display:flex;\n",
              "      flex-wrap:wrap;\n",
              "      gap: 12px;\n",
              "    }\n",
              "\n",
              "    .colab-df-convert {\n",
              "      background-color: #E8F0FE;\n",
              "      border: none;\n",
              "      border-radius: 50%;\n",
              "      cursor: pointer;\n",
              "      display: none;\n",
              "      fill: #1967D2;\n",
              "      height: 32px;\n",
              "      padding: 0 0 0 0;\n",
              "      width: 32px;\n",
              "    }\n",
              "\n",
              "    .colab-df-convert:hover {\n",
              "      background-color: #E2EBFA;\n",
              "      box-shadow: 0px 1px 2px rgba(60, 64, 67, 0.3), 0px 1px 3px 1px rgba(60, 64, 67, 0.15);\n",
              "      fill: #174EA6;\n",
              "    }\n",
              "\n",
              "    [theme=dark] .colab-df-convert {\n",
              "      background-color: #3B4455;\n",
              "      fill: #D2E3FC;\n",
              "    }\n",
              "\n",
              "    [theme=dark] .colab-df-convert:hover {\n",
              "      background-color: #434B5C;\n",
              "      box-shadow: 0px 1px 3px 1px rgba(0, 0, 0, 0.15);\n",
              "      filter: drop-shadow(0px 1px 2px rgba(0, 0, 0, 0.3));\n",
              "      fill: #FFFFFF;\n",
              "    }\n",
              "  </style>\n",
              "\n",
              "      <script>\n",
              "        const buttonEl =\n",
              "          document.querySelector('#df-9ed0ce81-a39b-42d8-ac1b-8e0d4321cdfa button.colab-df-convert');\n",
              "        buttonEl.style.display =\n",
              "          google.colab.kernel.accessAllowed ? 'block' : 'none';\n",
              "\n",
              "        async function convertToInteractive(key) {\n",
              "          const element = document.querySelector('#df-9ed0ce81-a39b-42d8-ac1b-8e0d4321cdfa');\n",
              "          const dataTable =\n",
              "            await google.colab.kernel.invokeFunction('convertToInteractive',\n",
              "                                                     [key], {});\n",
              "          if (!dataTable) return;\n",
              "\n",
              "          const docLinkHtml = 'Like what you see? Visit the ' +\n",
              "            '<a target=\"_blank\" href=https://colab.research.google.com/notebooks/data_table.ipynb>data table notebook</a>'\n",
              "            + ' to learn more about interactive tables.';\n",
              "          element.innerHTML = '';\n",
              "          dataTable['output_type'] = 'display_data';\n",
              "          await google.colab.output.renderOutput(dataTable, element);\n",
              "          const docLink = document.createElement('div');\n",
              "          docLink.innerHTML = docLinkHtml;\n",
              "          element.appendChild(docLink);\n",
              "        }\n",
              "      </script>\n",
              "    </div>\n",
              "  </div>\n",
              "  "
            ]
          },
          "metadata": {},
          "execution_count": 34
        }
      ]
    },
    {
      "cell_type": "markdown",
      "source": [
        "# Valid데이터 분리"
      ],
      "metadata": {
        "id": "yiYVIynZgWie"
      }
    },
    {
      "cell_type": "code",
      "source": [
        "train, val, _, _ = train_test_split(train, train['label'], test_size=0.3, stratify=train['label'], random_state=CFG['SEED'])            # 원본 데이터의 일부 만큼 Validation을 해볼 예정"
      ],
      "metadata": {
        "id": "RgPUf4m5BiDR"
      },
      "execution_count": null,
      "outputs": []
    },
    {
      "cell_type": "code",
      "source": [
        "val"
      ],
      "metadata": {
        "colab": {
          "base_uri": "https://localhost:8080/",
          "height": 424
        },
        "id": "Ffe0jr2qCd2n",
        "outputId": "64805c93-c2ec-4c5a-f123-c80fda24a669"
      },
      "execution_count": null,
      "outputs": [
        {
          "output_type": "execute_result",
          "data": {
            "text/plain": [
              "                                               img_path  label\n",
              "133   /content/gdrive/MyDrive/open (2)/train/걸레바...      1\n",
              "3119  /content/gdrive/MyDrive/open (2)/train/훼손/1...     18\n",
              "12    /content/gdrive/MyDrive/open (2)/train/걸레바...      1\n",
              "1567  /content/gdrive/MyDrive/open (2)/train/오염/4...     10\n",
              "3321  /content/gdrive/MyDrive/open (2)/train/훼손/1...     18\n",
              "...                                                 ...    ...\n",
              "1949  /content/gdrive/MyDrive/open (2)/train/터짐/9...     15\n",
              "1367  /content/gdrive/MyDrive/open (2)/train/오염/2...     10\n",
              "2286  /content/gdrive/MyDrive/open (2)/train/훼손/3...     18\n",
              "486   /content/gdrive/MyDrive/open (2)/train/꼬임/5...      3\n",
              "2173  /content/gdrive/MyDrive/open (2)/train/훼손/2...     18\n",
              "\n",
              "[1038 rows x 2 columns]"
            ],
            "text/html": [
              "\n",
              "  <div id=\"df-f210f881-fbce-408c-89d6-da3f7fb39c53\">\n",
              "    <div class=\"colab-df-container\">\n",
              "      <div>\n",
              "<style scoped>\n",
              "    .dataframe tbody tr th:only-of-type {\n",
              "        vertical-align: middle;\n",
              "    }\n",
              "\n",
              "    .dataframe tbody tr th {\n",
              "        vertical-align: top;\n",
              "    }\n",
              "\n",
              "    .dataframe thead th {\n",
              "        text-align: right;\n",
              "    }\n",
              "</style>\n",
              "<table border=\"1\" class=\"dataframe\">\n",
              "  <thead>\n",
              "    <tr style=\"text-align: right;\">\n",
              "      <th></th>\n",
              "      <th>img_path</th>\n",
              "      <th>label</th>\n",
              "    </tr>\n",
              "  </thead>\n",
              "  <tbody>\n",
              "    <tr>\n",
              "      <th>133</th>\n",
              "      <td>/content/gdrive/MyDrive/open (2)/train/걸레바...</td>\n",
              "      <td>1</td>\n",
              "    </tr>\n",
              "    <tr>\n",
              "      <th>3119</th>\n",
              "      <td>/content/gdrive/MyDrive/open (2)/train/훼손/1...</td>\n",
              "      <td>18</td>\n",
              "    </tr>\n",
              "    <tr>\n",
              "      <th>12</th>\n",
              "      <td>/content/gdrive/MyDrive/open (2)/train/걸레바...</td>\n",
              "      <td>1</td>\n",
              "    </tr>\n",
              "    <tr>\n",
              "      <th>1567</th>\n",
              "      <td>/content/gdrive/MyDrive/open (2)/train/오염/4...</td>\n",
              "      <td>10</td>\n",
              "    </tr>\n",
              "    <tr>\n",
              "      <th>3321</th>\n",
              "      <td>/content/gdrive/MyDrive/open (2)/train/훼손/1...</td>\n",
              "      <td>18</td>\n",
              "    </tr>\n",
              "    <tr>\n",
              "      <th>...</th>\n",
              "      <td>...</td>\n",
              "      <td>...</td>\n",
              "    </tr>\n",
              "    <tr>\n",
              "      <th>1949</th>\n",
              "      <td>/content/gdrive/MyDrive/open (2)/train/터짐/9...</td>\n",
              "      <td>15</td>\n",
              "    </tr>\n",
              "    <tr>\n",
              "      <th>1367</th>\n",
              "      <td>/content/gdrive/MyDrive/open (2)/train/오염/2...</td>\n",
              "      <td>10</td>\n",
              "    </tr>\n",
              "    <tr>\n",
              "      <th>2286</th>\n",
              "      <td>/content/gdrive/MyDrive/open (2)/train/훼손/3...</td>\n",
              "      <td>18</td>\n",
              "    </tr>\n",
              "    <tr>\n",
              "      <th>486</th>\n",
              "      <td>/content/gdrive/MyDrive/open (2)/train/꼬임/5...</td>\n",
              "      <td>3</td>\n",
              "    </tr>\n",
              "    <tr>\n",
              "      <th>2173</th>\n",
              "      <td>/content/gdrive/MyDrive/open (2)/train/훼손/2...</td>\n",
              "      <td>18</td>\n",
              "    </tr>\n",
              "  </tbody>\n",
              "</table>\n",
              "<p>1038 rows × 2 columns</p>\n",
              "</div>\n",
              "      <button class=\"colab-df-convert\" onclick=\"convertToInteractive('df-f210f881-fbce-408c-89d6-da3f7fb39c53')\"\n",
              "              title=\"Convert this dataframe to an interactive table.\"\n",
              "              style=\"display:none;\">\n",
              "        \n",
              "  <svg xmlns=\"http://www.w3.org/2000/svg\" height=\"24px\"viewBox=\"0 0 24 24\"\n",
              "       width=\"24px\">\n",
              "    <path d=\"M0 0h24v24H0V0z\" fill=\"none\"/>\n",
              "    <path d=\"M18.56 5.44l.94 2.06.94-2.06 2.06-.94-2.06-.94-.94-2.06-.94 2.06-2.06.94zm-11 1L8.5 8.5l.94-2.06 2.06-.94-2.06-.94L8.5 2.5l-.94 2.06-2.06.94zm10 10l.94 2.06.94-2.06 2.06-.94-2.06-.94-.94-2.06-.94 2.06-2.06.94z\"/><path d=\"M17.41 7.96l-1.37-1.37c-.4-.4-.92-.59-1.43-.59-.52 0-1.04.2-1.43.59L10.3 9.45l-7.72 7.72c-.78.78-.78 2.05 0 2.83L4 21.41c.39.39.9.59 1.41.59.51 0 1.02-.2 1.41-.59l7.78-7.78 2.81-2.81c.8-.78.8-2.07 0-2.86zM5.41 20L4 18.59l7.72-7.72 1.47 1.35L5.41 20z\"/>\n",
              "  </svg>\n",
              "      </button>\n",
              "      \n",
              "  <style>\n",
              "    .colab-df-container {\n",
              "      display:flex;\n",
              "      flex-wrap:wrap;\n",
              "      gap: 12px;\n",
              "    }\n",
              "\n",
              "    .colab-df-convert {\n",
              "      background-color: #E8F0FE;\n",
              "      border: none;\n",
              "      border-radius: 50%;\n",
              "      cursor: pointer;\n",
              "      display: none;\n",
              "      fill: #1967D2;\n",
              "      height: 32px;\n",
              "      padding: 0 0 0 0;\n",
              "      width: 32px;\n",
              "    }\n",
              "\n",
              "    .colab-df-convert:hover {\n",
              "      background-color: #E2EBFA;\n",
              "      box-shadow: 0px 1px 2px rgba(60, 64, 67, 0.3), 0px 1px 3px 1px rgba(60, 64, 67, 0.15);\n",
              "      fill: #174EA6;\n",
              "    }\n",
              "\n",
              "    [theme=dark] .colab-df-convert {\n",
              "      background-color: #3B4455;\n",
              "      fill: #D2E3FC;\n",
              "    }\n",
              "\n",
              "    [theme=dark] .colab-df-convert:hover {\n",
              "      background-color: #434B5C;\n",
              "      box-shadow: 0px 1px 3px 1px rgba(0, 0, 0, 0.15);\n",
              "      filter: drop-shadow(0px 1px 2px rgba(0, 0, 0, 0.3));\n",
              "      fill: #FFFFFF;\n",
              "    }\n",
              "  </style>\n",
              "\n",
              "      <script>\n",
              "        const buttonEl =\n",
              "          document.querySelector('#df-f210f881-fbce-408c-89d6-da3f7fb39c53 button.colab-df-convert');\n",
              "        buttonEl.style.display =\n",
              "          google.colab.kernel.accessAllowed ? 'block' : 'none';\n",
              "\n",
              "        async function convertToInteractive(key) {\n",
              "          const element = document.querySelector('#df-f210f881-fbce-408c-89d6-da3f7fb39c53');\n",
              "          const dataTable =\n",
              "            await google.colab.kernel.invokeFunction('convertToInteractive',\n",
              "                                                     [key], {});\n",
              "          if (!dataTable) return;\n",
              "\n",
              "          const docLinkHtml = 'Like what you see? Visit the ' +\n",
              "            '<a target=\"_blank\" href=https://colab.research.google.com/notebooks/data_table.ipynb>data table notebook</a>'\n",
              "            + ' to learn more about interactive tables.';\n",
              "          element.innerHTML = '';\n",
              "          dataTable['output_type'] = 'display_data';\n",
              "          await google.colab.output.renderOutput(dataTable, element);\n",
              "          const docLink = document.createElement('div');\n",
              "          docLink.innerHTML = docLinkHtml;\n",
              "          element.appendChild(docLink);\n",
              "        }\n",
              "      </script>\n",
              "    </div>\n",
              "  </div>\n",
              "  "
            ]
          },
          "metadata": {},
          "execution_count": 36
        }
      ]
    },
    {
      "cell_type": "markdown",
      "source": [
        "# 커스텀 데이터셋, DataLoader 설정"
      ],
      "metadata": {
        "id": "XHnp496a97l5"
      }
    },
    {
      "cell_type": "code",
      "source": [
        "class CustomDataset(Dataset):\n",
        "    def __init__(self, img_path_list, label, transforms=None):\n",
        "        self.img_path_list = img_path_list\n",
        "        self.label = label\n",
        "        self.transforms = transforms\n",
        "        \n",
        "    def __getitem__(self, index):\n",
        "        img_path = self.img_path_list[index]\n",
        "        \n",
        "        image = cv2.imread(img_path)\n",
        "        \n",
        "        if self.transforms is not None:\n",
        "            image = self.transforms(image=image)['image']\n",
        "        \n",
        "        if self.label is not None:\n",
        "            label = self.label[index]\n",
        "            return image, label\n",
        "        else:\n",
        "            return image\n",
        "        \n",
        "    def __len__(self):\n",
        "        return len(self.img_path_list)"
      ],
      "metadata": {
        "id": "ZK_lIzY0Cd5G"
      },
      "execution_count": null,
      "outputs": []
    },
    {
      "cell_type": "code",
      "source": [
        "train_transform = A.Compose([\n",
        "                            A.Resize(CFG['IMG_SIZE'],CFG['IMG_SIZE']),\n",
        "                            A.Normalize(mean=(0.485, 0.456, 0.406), std=(0.229, 0.224, 0.225), max_pixel_value=255.0, always_apply=False, p=1.0),\n",
        "                            ToTensorV2()\n",
        "                            ])\n",
        "\n",
        "test_transform = A.Compose([\n",
        "                            A.Resize(CFG['IMG_SIZE'],CFG['IMG_SIZE']),\n",
        "                            A.Normalize(mean=(0.485, 0.456, 0.406), std=(0.229, 0.224, 0.225), max_pixel_value=255.0, always_apply=False, p=1.0),\n",
        "                            ToTensorV2()\n",
        "                            ])"
      ],
      "metadata": {
        "id": "hAimw2RJCxZT"
      },
      "execution_count": null,
      "outputs": []
    },
    {
      "cell_type": "code",
      "source": [
        "train_set = CustomDataset(df['img_path'].values, df['label'].values, train_transform)\n",
        "train_loader = DataLoader(train_set, batch_size = CFG['BATCH_SIZE'], shuffle=False, num_workers=8,pin_memory=True)\n",
        "\n",
        "valid_set = CustomDataset(val['img_path'].values, val['label'].values, test_transform)\n",
        "valid_loader = DataLoader(valid_set, batch_size=CFG['BATCH_SIZE'], shuffle=False, num_workers=8,pin_memory=True)\n"
      ],
      "metadata": {
        "id": "g3Zyg1YgCxbw"
      },
      "execution_count": null,
      "outputs": []
    },
    {
      "cell_type": "code",
      "source": [
        "from time import time\n",
        "import multiprocessing as mp\n",
        "train_set = CustomDataset(df['img_path'].values, df['label'].values, train_transform)\n",
        "valid_set = CustomDataset(val['img_path'].values, val['label'].values, test_transform)\n",
        "for num_workers in range(2, mp.cpu_count(), 2):  \n",
        "    train_loader = DataLoader(valid_set,shuffle=False,num_workers=num_workers,batch_size=64,pin_memory=True)\n",
        "    start = time()\n",
        "    for epoch in tqdm(range(1, 3)):\n",
        "        for i, data in tqdm(enumerate(train_loader, 0)):\n",
        "            pass\n",
        "    end = time()\n",
        "    print(\"Finish with:{} second, num_workers={}\".format(end - start, num_workers))                               # 훈련 속도 향상(데이터 로더 속도 향상)을 위하여 최적의 num_workers수"
      ],
      "metadata": {
        "colab": {
          "base_uri": "https://localhost:8080/",
          "height": 584,
          "referenced_widgets": [
            "a150bc310b8e48ceb6a62b798bd5840c",
            "6b70c148598943658b34b1252879c9c7",
            "f465ea2f0d1343789cf6199d3afe05cc",
            "effb3cafbece4dbfadbabed107cb79bc",
            "e86760ee6eec43498168cdfd851782b4",
            "92a556c796bf4bb49a65381ab8a34ebb",
            "08d8ab7936da4af788f5876564a010a6",
            "bc14aae948ac427e83bca1fc66b9cff9",
            "a774d7e110a7438b9e2289eb35f41002",
            "945d21e2bfbe450abfa179a614394f37",
            "573bc3ff35834aa8a555d4b41ea373b5",
            "c5af5dcea8ca41f699fb448ba476e142",
            "5520161af4ee44dfa80afeb7e03330e7",
            "e2f9e703aa994a3dbe5656197ac807d4",
            "369c236f69164429bedf705e9e30caf3",
            "a49f66691ecf4e779acbef2999bd3771",
            "8c2037887fd846539476f1760cdfe23f",
            "c19e432fa25349eb9d2e079bf78bed13",
            "d0f63df7f6704441898d4f25c3ae208f",
            "1eab370203dd4be693c1503191f4b62a",
            "03e088b5b47c45698c4c2c8d4d099e5c",
            "21e63d3e969d4dfcb5402a5dca4f7254",
            "3146aeef262948da97800ed7057d72b0",
            "e0ea1385054b4c42b1ea441eccfdfe3f",
            "3fad11c9735945b4ae544501cf868a86",
            "7b3f7f9fa7b94ca7986ef38fdb3d3171",
            "14d7c8f550e44978852fded939a53254",
            "9d2f7134904e48d0af9e5e2fb7314378",
            "80edbf175d5d487486f55c186de649e1",
            "e8fa63419dff4dfcb788655dacd43e97",
            "39127c5a467b49949aba779e36e41dfa",
            "03ca0944e5f24afc9e7ffe39d4e9ec3e",
            "f497c74581d74e6cb2ba2a12fcdc321e",
            "079dee25ad4e4ae79ee850c1b0b90965",
            "77f7acbe95ea424fac671428108ff37c",
            "14a2d8914e1243c8b4586341449bb591",
            "e26c0d9c7367497dbe458d40501a60c8",
            "ae5d17a853d34c42bf6c2348f5665d11",
            "f77b315b50864051bb8c47428ae1700d",
            "e71101762cbd4aabadab6086512119cf",
            "547a20a735a4449d9f46763961c1a6e9",
            "08e2078a07e04c029f8b5a0eb11d6426",
            "d16a6f161b5b43c88264e7c730b384eb",
            "bf2cfe865bc340d3953b01171c7edcee",
            "1853c438d6e04e83a3c8c73970b9274e",
            "75319a616ecd4166ab49976c3b256bf5",
            "b7d9321b70f148daba8668461fcf29ea",
            "3cd73b996e744529bf3e4cd23bc42076",
            "676a422016e2493b93d277fd93e6373a",
            "f754e3b4f6b6447e8990534ac3f3dd17",
            "2a21ae24600c4a299f00ceba70439926",
            "c096e31e5df34e40aec5815e2c2c31a5",
            "01542b6c0e1a445397e20b4f667f602e",
            "d99bfad917af434ea5fc5204e63bfa7f",
            "ee6a38d86c5847a8bb109d6677004b3d",
            "c533493b5d4f4140abcebb2eb58aa431",
            "36e2943c097a43c7b27cb47c1c1d8dbf",
            "20352cf7c52f4985911800d53f6424c7",
            "393e6689147047cc92a9ee78a20bd333",
            "822f74b911ef4fe784460bf923183128",
            "2bf028a1416a4323b5cde9df86a46569",
            "53b63bc680a541b69e674b3a5423da88",
            "458609ef8afd4f7793801465fc7c7d78",
            "9d10577a9b3e41aea56bf3e60feeea75",
            "44350dd23221482593ed5743c49974bc",
            "21e8511e4b9b4ab0af249dcbd2a517fb",
            "3c4dffadfc1f4f2c9a693822f1194fb6",
            "cd35bf2f96ee4faeb0e6235a94a43698",
            "9f278f85de3b43c6a1b8b4a0b912d7c8",
            "ad317c1acb2644a09f5bb449bc476380",
            "ad4ce8c6eb7742bd9ba1969648a22f89",
            "57de2dd3c60442b4aafc00e7de61062c",
            "76ddc692bbf845dab4cfd6bffe6610c2",
            "16a06016211348c184c2cce220271a33",
            "e4f47e1a442e425ea34634fafbef934c",
            "44d06357912f4f4bbcae5382545f7874",
            "eae1eaf3aceb4a89b032f3d6359ebe2a",
            "aee459577c414ae7a13cc6bb23b3155f",
            "d1cc9ab0c8814333a0fa4c59f7914d37",
            "ce5426926edb405aa68dabadc61cc7eb",
            "88232b1e300a4084a62d1b2404ef9671",
            "096db0d33d004e2ea6d476802bfee6d6",
            "4d67572a4b0941e89960eea1a2944a9b",
            "257d864bd934435a97cbbc2b52a753b2",
            "c03d5c1a614149a5a0440fb71a94cb0b",
            "214a5255ad244b52b334ee65d80ae161",
            "f25015f03524478e929c023ff356a0f8",
            "c85dd8fce8ef46a68ac5ea2dbbf0c595",
            "de5cc258c34e47d49f672643e9a99f62",
            "93054ec326aa47309102c7873d3caa92",
            "de19d2d00b624f2facc9dc8903018f57",
            "747623b9c4974a5c805101bf79cb02a4",
            "97977286e43a4130a5b98fe425faf30c",
            "92f8a14337ab43b1bd3cb2d9b7ac20f1",
            "d2504f80cdf1426f86c22672229e4146",
            "af1c43cae04743839f20588b17477477",
            "d1b53ded20264ba4a544aab52666c084",
            "d4db3ab1b09647dab2a8dadf8272255d",
            "4fd912e3ce5749e0b676f1e1c13b4a24",
            "6dd4b96ed1e546159b88ebb015b38b87",
            "6363a313ac0f4379bf704afbf26718ec",
            "b275954f57a14b469640439fd92e10d1",
            "77c92b1620e548b2a59221ff54c3ce15",
            "7825a0d5325742549a2b22a505aa54ef",
            "716fbec9a4f743e98f3ab539be1a21cd",
            "b2926d1cfa9741e99b54d142fc22c624",
            "6906aeda69b9457182e58fb448e7f4ab",
            "b6896fbb3b8041f5b89906e52b145bb7",
            "98401e70d0e14a929ea2f841f67cd3cd",
            "215849476a9247edaead297ac56e9d77",
            "496c489c997b48b984959f8663804d95",
            "8adef9fe4b224cfbb4ced52b079026de",
            "719931e34a934eabadbeec03fd8fa3df",
            "e5428845ec624484b88891f81c89d570",
            "f7f994c46fdc4ebe9c89dc23953636d4",
            "94952a2a21884f81ae94ff6bacd58600",
            "90bba493911c47bfa0c0d118086cdc2b",
            "d5251250bb804307a82df42b7b997797",
            "30496e77e9bb42f69559ddffaa8f4376",
            "cfc13e17967e437491bced199a021db0",
            "4ac5b87dd29a4586bebf4367f4096fa1",
            "22fa2a7072494545ab371fc3dbb1c126",
            "81a28fdbb5a1441bab62d9f227a1d89f",
            "b35bf280bfbd4f219117f8c52ac2c48a",
            "b173b23cb4824618b64879c404c6700d",
            "f3878b1712644ebc96a601979d34fb6e",
            "05f70015469348588c8d1b27dcfb7f64",
            "cc0a71b7f9054f22a89dc94648e42138",
            "07026c0b599a4fc69d9e878121a78386",
            "f90cad0b6c894f5aa5065eecf2ff9a14",
            "4aff6b27a3af43538a8b0e51bb925004",
            "aad327cc05f64d7983d4fef0018e1ffc",
            "94e10f93b03e4cab9aa11529275227c0",
            "649e893794eb4cada803121aa8c19c26",
            "44f26336025e420099b825f210eaa274",
            "f44c674061c94460859e15215781fbf5",
            "0583d5ead7724f88be9a4fa4fcaae313",
            "e7e2f6751a7847a3911204c78f6f57c6",
            "9eec1901f89149be887dd80d74c9d699",
            "ee1f73ddc0cf4c81a1523a769eddbab3",
            "fe64408a02c443709b96d651b9bafaed",
            "3ee2b2a14d1143338a3ed7eb1812b6d9",
            "6fc48456ce7540838c78c009b9135d20",
            "221b5bc6f10c4da382d77de691e7ddd1",
            "3163cacdb4784236a1e5e8031c18aeb6",
            "c3b8e15f58514908b380410db0bcc518",
            "8ffb25f274094cfbadb47cc34334e76c",
            "665966a462e044448417dff4c45c96fd",
            "9a7bd23e30cf44f28c0911b249335ea4",
            "f1c5518fb34f4aa9989dc41ffc519c12",
            "9c8912e22f9249158c147535b1743c01",
            "c2f2a00b3161481ea55abcb72a0dadfd",
            "417d52196ed34c8f96cb58630b22586f",
            "fae563d731b84dd49a44bfe1ab12aa26",
            "d849e54dd00743158a50b77229a9d0a3",
            "720d4b08787042958957da19761f3673",
            "0f96274c4f7a441eb552c92daaf27700",
            "b38b8b5571fc4e3794bdd4457a130960",
            "b4f5f25d325449ee89ca4652612dbeda",
            "7d65ec5963184faca8948db4ba989658",
            "aa6ec5448cf2478cb9b35e615fa37448",
            "c70a42e1a9cb4197866bb9aa1e386bc0",
            "2151b506849d47218414a0f10742ca84",
            "cffe28acc807408cb7f86ecd1a871992",
            "fbb4b041396d450d95da6a291b20fbe7"
          ]
        },
        "id": "K5A8vZHqi6t8",
        "outputId": "e9cbde6f-89cf-424d-af9e-bf35e206e82f"
      },
      "execution_count": null,
      "outputs": [
        {
          "output_type": "display_data",
          "data": {
            "text/plain": [
              "  0%|          | 0/2 [00:00<?, ?it/s]"
            ],
            "application/vnd.jupyter.widget-view+json": {
              "version_major": 2,
              "version_minor": 0,
              "model_id": "a150bc310b8e48ceb6a62b798bd5840c"
            }
          },
          "metadata": {}
        },
        {
          "output_type": "display_data",
          "data": {
            "text/plain": [
              "0it [00:00, ?it/s]"
            ],
            "application/vnd.jupyter.widget-view+json": {
              "version_major": 2,
              "version_minor": 0,
              "model_id": "c5af5dcea8ca41f699fb448ba476e142"
            }
          },
          "metadata": {}
        },
        {
          "output_type": "display_data",
          "data": {
            "text/plain": [
              "0it [00:00, ?it/s]"
            ],
            "application/vnd.jupyter.widget-view+json": {
              "version_major": 2,
              "version_minor": 0,
              "model_id": "3146aeef262948da97800ed7057d72b0"
            }
          },
          "metadata": {}
        },
        {
          "output_type": "stream",
          "name": "stdout",
          "text": [
            "Finish with:191.38342189788818 second, num_workers=2\n"
          ]
        },
        {
          "output_type": "display_data",
          "data": {
            "text/plain": [
              "  0%|          | 0/2 [00:00<?, ?it/s]"
            ],
            "application/vnd.jupyter.widget-view+json": {
              "version_major": 2,
              "version_minor": 0,
              "model_id": "079dee25ad4e4ae79ee850c1b0b90965"
            }
          },
          "metadata": {}
        },
        {
          "output_type": "display_data",
          "data": {
            "text/plain": [
              "0it [00:00, ?it/s]"
            ],
            "application/vnd.jupyter.widget-view+json": {
              "version_major": 2,
              "version_minor": 0,
              "model_id": "1853c438d6e04e83a3c8c73970b9274e"
            }
          },
          "metadata": {}
        },
        {
          "output_type": "display_data",
          "data": {
            "text/plain": [
              "0it [00:00, ?it/s]"
            ],
            "application/vnd.jupyter.widget-view+json": {
              "version_major": 2,
              "version_minor": 0,
              "model_id": "c533493b5d4f4140abcebb2eb58aa431"
            }
          },
          "metadata": {}
        },
        {
          "output_type": "stream",
          "name": "stdout",
          "text": [
            "Finish with:8.425860404968262 second, num_workers=4\n"
          ]
        },
        {
          "output_type": "display_data",
          "data": {
            "text/plain": [
              "  0%|          | 0/2 [00:00<?, ?it/s]"
            ],
            "application/vnd.jupyter.widget-view+json": {
              "version_major": 2,
              "version_minor": 0,
              "model_id": "3c4dffadfc1f4f2c9a693822f1194fb6"
            }
          },
          "metadata": {}
        },
        {
          "output_type": "display_data",
          "data": {
            "text/plain": [
              "0it [00:00, ?it/s]"
            ],
            "application/vnd.jupyter.widget-view+json": {
              "version_major": 2,
              "version_minor": 0,
              "model_id": "aee459577c414ae7a13cc6bb23b3155f"
            }
          },
          "metadata": {}
        },
        {
          "output_type": "display_data",
          "data": {
            "text/plain": [
              "0it [00:00, ?it/s]"
            ],
            "application/vnd.jupyter.widget-view+json": {
              "version_major": 2,
              "version_minor": 0,
              "model_id": "de5cc258c34e47d49f672643e9a99f62"
            }
          },
          "metadata": {}
        },
        {
          "output_type": "stream",
          "name": "stdout",
          "text": [
            "Finish with:7.0235395431518555 second, num_workers=6\n"
          ]
        },
        {
          "output_type": "display_data",
          "data": {
            "text/plain": [
              "  0%|          | 0/2 [00:00<?, ?it/s]"
            ],
            "application/vnd.jupyter.widget-view+json": {
              "version_major": 2,
              "version_minor": 0,
              "model_id": "6dd4b96ed1e546159b88ebb015b38b87"
            }
          },
          "metadata": {}
        },
        {
          "output_type": "display_data",
          "data": {
            "text/plain": [
              "0it [00:00, ?it/s]"
            ],
            "application/vnd.jupyter.widget-view+json": {
              "version_major": 2,
              "version_minor": 0,
              "model_id": "496c489c997b48b984959f8663804d95"
            }
          },
          "metadata": {}
        },
        {
          "output_type": "display_data",
          "data": {
            "text/plain": [
              "0it [00:00, ?it/s]"
            ],
            "application/vnd.jupyter.widget-view+json": {
              "version_major": 2,
              "version_minor": 0,
              "model_id": "22fa2a7072494545ab371fc3dbb1c126"
            }
          },
          "metadata": {}
        },
        {
          "output_type": "stream",
          "name": "stdout",
          "text": [
            "Finish with:5.930846214294434 second, num_workers=8\n"
          ]
        },
        {
          "output_type": "display_data",
          "data": {
            "text/plain": [
              "  0%|          | 0/2 [00:00<?, ?it/s]"
            ],
            "application/vnd.jupyter.widget-view+json": {
              "version_major": 2,
              "version_minor": 0,
              "model_id": "94e10f93b03e4cab9aa11529275227c0"
            }
          },
          "metadata": {}
        },
        {
          "output_type": "display_data",
          "data": {
            "text/plain": [
              "0it [00:00, ?it/s]"
            ],
            "application/vnd.jupyter.widget-view+json": {
              "version_major": 2,
              "version_minor": 0,
              "model_id": "221b5bc6f10c4da382d77de691e7ddd1"
            }
          },
          "metadata": {}
        },
        {
          "output_type": "display_data",
          "data": {
            "text/plain": [
              "0it [00:00, ?it/s]"
            ],
            "application/vnd.jupyter.widget-view+json": {
              "version_major": 2,
              "version_minor": 0,
              "model_id": "d849e54dd00743158a50b77229a9d0a3"
            }
          },
          "metadata": {}
        },
        {
          "output_type": "stream",
          "name": "stdout",
          "text": [
            "Finish with:5.8551552295684814 second, num_workers=10\n"
          ]
        }
      ]
    }
  ]
}